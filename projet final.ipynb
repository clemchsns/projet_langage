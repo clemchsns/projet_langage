{
 "cells": [
  {
   "cell_type": "markdown",
   "metadata": {},
   "source": [
    "Margaux Bailleul 21906121\n",
    "Clémence CHESNAIS 21901191"
   ]
  },
  {
   "cell_type": "markdown",
   "metadata": {},
   "source": [
    "# Import des modules"
   ]
  },
  {
   "cell_type": "code",
   "execution_count": 3,
   "metadata": {},
   "outputs": [
    {
     "name": "stderr",
     "output_type": "stream",
     "text": [
      "/Users/margauxbailleul/opt/anaconda3/lib/python3.9/site-packages/scipy/__init__.py:146: UserWarning: A NumPy version >=1.16.5 and <1.23.0 is required for this version of SciPy (detected version 1.26.2\n",
      "  warnings.warn(f\"A NumPy version >={np_minversion} and <{np_maxversion}\"\n"
     ]
    }
   ],
   "source": [
    "import pandas as pd \n",
    "import numpy as np\n",
    "import matplotlib.pyplot as plt\n",
    "import regex as re\n",
    "from collections import defaultdict, Counter\n",
    "from sklearn.model_selection import train_test_split\n",
    "import nltk\n",
    "from nltk.tokenize import word_tokenize, TweetTokenizer\n",
    "from nltk.stem.snowball import FrenchStemmer "
   ]
  },
  {
   "cell_type": "code",
   "execution_count": 4,
   "metadata": {},
   "outputs": [
    {
     "name": "stdout",
     "output_type": "stream",
     "text": [
      "Requirement already satisfied: spacy in /Users/margauxbailleul/opt/anaconda3/lib/python3.9/site-packages (3.7.2)\n",
      "Requirement already satisfied: spacy-legacy<3.1.0,>=3.0.11 in /Users/margauxbailleul/opt/anaconda3/lib/python3.9/site-packages (from spacy) (3.0.12)\n",
      "Requirement already satisfied: spacy-loggers<2.0.0,>=1.0.0 in /Users/margauxbailleul/opt/anaconda3/lib/python3.9/site-packages (from spacy) (1.0.5)\n",
      "Requirement already satisfied: murmurhash<1.1.0,>=0.28.0 in /Users/margauxbailleul/opt/anaconda3/lib/python3.9/site-packages (from spacy) (1.0.10)\n",
      "Requirement already satisfied: cymem<2.1.0,>=2.0.2 in /Users/margauxbailleul/opt/anaconda3/lib/python3.9/site-packages (from spacy) (2.0.8)\n",
      "Requirement already satisfied: preshed<3.1.0,>=3.0.2 in /Users/margauxbailleul/opt/anaconda3/lib/python3.9/site-packages (from spacy) (3.0.9)\n",
      "Requirement already satisfied: thinc<8.3.0,>=8.1.8 in /Users/margauxbailleul/opt/anaconda3/lib/python3.9/site-packages (from spacy) (8.2.1)\n",
      "Requirement already satisfied: wasabi<1.2.0,>=0.9.1 in /Users/margauxbailleul/opt/anaconda3/lib/python3.9/site-packages (from spacy) (1.1.2)\n",
      "Requirement already satisfied: srsly<3.0.0,>=2.4.3 in /Users/margauxbailleul/opt/anaconda3/lib/python3.9/site-packages (from spacy) (2.4.8)\n",
      "Requirement already satisfied: catalogue<2.1.0,>=2.0.6 in /Users/margauxbailleul/opt/anaconda3/lib/python3.9/site-packages (from spacy) (2.0.10)\n",
      "Requirement already satisfied: weasel<0.4.0,>=0.1.0 in /Users/margauxbailleul/opt/anaconda3/lib/python3.9/site-packages (from spacy) (0.3.3)\n",
      "Requirement already satisfied: typer<0.10.0,>=0.3.0 in /Users/margauxbailleul/opt/anaconda3/lib/python3.9/site-packages (from spacy) (0.9.0)\n",
      "Requirement already satisfied: smart-open<7.0.0,>=5.2.1 in /Users/margauxbailleul/opt/anaconda3/lib/python3.9/site-packages (from spacy) (5.2.1)\n",
      "Requirement already satisfied: tqdm<5.0.0,>=4.38.0 in /Users/margauxbailleul/opt/anaconda3/lib/python3.9/site-packages (from spacy) (4.64.1)\n",
      "Requirement already satisfied: requests<3.0.0,>=2.13.0 in /Users/margauxbailleul/opt/anaconda3/lib/python3.9/site-packages (from spacy) (2.28.1)\n",
      "Requirement already satisfied: pydantic!=1.8,!=1.8.1,<3.0.0,>=1.7.4 in /Users/margauxbailleul/opt/anaconda3/lib/python3.9/site-packages (from spacy) (1.10.12)\n",
      "Requirement already satisfied: jinja2 in /Users/margauxbailleul/opt/anaconda3/lib/python3.9/site-packages (from spacy) (2.11.3)\n",
      "Requirement already satisfied: setuptools in /Users/margauxbailleul/opt/anaconda3/lib/python3.9/site-packages (from spacy) (63.4.1)\n",
      "Requirement already satisfied: packaging>=20.0 in /Users/margauxbailleul/opt/anaconda3/lib/python3.9/site-packages (from spacy) (23.0)\n",
      "Requirement already satisfied: langcodes<4.0.0,>=3.2.0 in /Users/margauxbailleul/opt/anaconda3/lib/python3.9/site-packages (from spacy) (3.3.0)\n",
      "Requirement already satisfied: numpy>=1.19.0 in /Users/margauxbailleul/opt/anaconda3/lib/python3.9/site-packages (from spacy) (1.26.1)\n",
      "Requirement already satisfied: typing-extensions>=4.2.0 in /Users/margauxbailleul/opt/anaconda3/lib/python3.9/site-packages (from pydantic!=1.8,!=1.8.1,<3.0.0,>=1.7.4->spacy) (4.3.0)\n",
      "Requirement already satisfied: charset-normalizer<3,>=2 in /Users/margauxbailleul/opt/anaconda3/lib/python3.9/site-packages (from requests<3.0.0,>=2.13.0->spacy) (2.0.4)\n",
      "Requirement already satisfied: idna<4,>=2.5 in /Users/margauxbailleul/opt/anaconda3/lib/python3.9/site-packages (from requests<3.0.0,>=2.13.0->spacy) (3.3)\n",
      "Requirement already satisfied: urllib3<1.27,>=1.21.1 in /Users/margauxbailleul/opt/anaconda3/lib/python3.9/site-packages (from requests<3.0.0,>=2.13.0->spacy) (1.26.11)\n",
      "Requirement already satisfied: certifi>=2017.4.17 in /Users/margauxbailleul/opt/anaconda3/lib/python3.9/site-packages (from requests<3.0.0,>=2.13.0->spacy) (2023.7.22)\n",
      "Requirement already satisfied: blis<0.8.0,>=0.7.8 in /Users/margauxbailleul/opt/anaconda3/lib/python3.9/site-packages (from thinc<8.3.0,>=8.1.8->spacy) (0.7.11)\n",
      "Requirement already satisfied: confection<1.0.0,>=0.0.1 in /Users/margauxbailleul/opt/anaconda3/lib/python3.9/site-packages (from thinc<8.3.0,>=8.1.8->spacy) (0.1.3)\n",
      "Requirement already satisfied: click<9.0.0,>=7.1.1 in /Users/margauxbailleul/opt/anaconda3/lib/python3.9/site-packages (from typer<0.10.0,>=0.3.0->spacy) (8.0.4)\n",
      "Requirement already satisfied: cloudpathlib<0.17.0,>=0.7.0 in /Users/margauxbailleul/opt/anaconda3/lib/python3.9/site-packages (from weasel<0.4.0,>=0.1.0->spacy) (0.16.0)\n",
      "Requirement already satisfied: MarkupSafe>=0.23 in /Users/margauxbailleul/opt/anaconda3/lib/python3.9/site-packages (from jinja2->spacy) (2.0.1)\n",
      "Collecting fr-core-news-sm==3.7.0\n",
      "  Downloading https://github.com/explosion/spacy-models/releases/download/fr_core_news_sm-3.7.0/fr_core_news_sm-3.7.0-py3-none-any.whl (16.3 MB)\n",
      "\u001b[2K     \u001b[90m━━━━━━━━━━━━━━━━━━━━━━━━━━━━━━━━━━━━━━━━\u001b[0m \u001b[32m16.3/16.3 MB\u001b[0m \u001b[31m49.6 MB/s\u001b[0m eta \u001b[36m0:00:00\u001b[0m00:01\u001b[0m00:01\u001b[0m\n",
      "\u001b[?25hRequirement already satisfied: spacy<3.8.0,>=3.7.0 in /Users/margauxbailleul/opt/anaconda3/lib/python3.9/site-packages (from fr-core-news-sm==3.7.0) (3.7.2)\n",
      "Requirement already satisfied: spacy-legacy<3.1.0,>=3.0.11 in /Users/margauxbailleul/opt/anaconda3/lib/python3.9/site-packages (from spacy<3.8.0,>=3.7.0->fr-core-news-sm==3.7.0) (3.0.12)\n",
      "Requirement already satisfied: spacy-loggers<2.0.0,>=1.0.0 in /Users/margauxbailleul/opt/anaconda3/lib/python3.9/site-packages (from spacy<3.8.0,>=3.7.0->fr-core-news-sm==3.7.0) (1.0.5)\n",
      "Requirement already satisfied: murmurhash<1.1.0,>=0.28.0 in /Users/margauxbailleul/opt/anaconda3/lib/python3.9/site-packages (from spacy<3.8.0,>=3.7.0->fr-core-news-sm==3.7.0) (1.0.10)\n",
      "Requirement already satisfied: cymem<2.1.0,>=2.0.2 in /Users/margauxbailleul/opt/anaconda3/lib/python3.9/site-packages (from spacy<3.8.0,>=3.7.0->fr-core-news-sm==3.7.0) (2.0.8)\n",
      "Requirement already satisfied: preshed<3.1.0,>=3.0.2 in /Users/margauxbailleul/opt/anaconda3/lib/python3.9/site-packages (from spacy<3.8.0,>=3.7.0->fr-core-news-sm==3.7.0) (3.0.9)\n",
      "Requirement already satisfied: thinc<8.3.0,>=8.1.8 in /Users/margauxbailleul/opt/anaconda3/lib/python3.9/site-packages (from spacy<3.8.0,>=3.7.0->fr-core-news-sm==3.7.0) (8.2.1)\n",
      "Requirement already satisfied: wasabi<1.2.0,>=0.9.1 in /Users/margauxbailleul/opt/anaconda3/lib/python3.9/site-packages (from spacy<3.8.0,>=3.7.0->fr-core-news-sm==3.7.0) (1.1.2)\n",
      "Requirement already satisfied: srsly<3.0.0,>=2.4.3 in /Users/margauxbailleul/opt/anaconda3/lib/python3.9/site-packages (from spacy<3.8.0,>=3.7.0->fr-core-news-sm==3.7.0) (2.4.8)\n",
      "Requirement already satisfied: catalogue<2.1.0,>=2.0.6 in /Users/margauxbailleul/opt/anaconda3/lib/python3.9/site-packages (from spacy<3.8.0,>=3.7.0->fr-core-news-sm==3.7.0) (2.0.10)\n",
      "Requirement already satisfied: weasel<0.4.0,>=0.1.0 in /Users/margauxbailleul/opt/anaconda3/lib/python3.9/site-packages (from spacy<3.8.0,>=3.7.0->fr-core-news-sm==3.7.0) (0.3.3)\n",
      "Requirement already satisfied: typer<0.10.0,>=0.3.0 in /Users/margauxbailleul/opt/anaconda3/lib/python3.9/site-packages (from spacy<3.8.0,>=3.7.0->fr-core-news-sm==3.7.0) (0.9.0)\n",
      "Requirement already satisfied: smart-open<7.0.0,>=5.2.1 in /Users/margauxbailleul/opt/anaconda3/lib/python3.9/site-packages (from spacy<3.8.0,>=3.7.0->fr-core-news-sm==3.7.0) (5.2.1)\n",
      "Requirement already satisfied: tqdm<5.0.0,>=4.38.0 in /Users/margauxbailleul/opt/anaconda3/lib/python3.9/site-packages (from spacy<3.8.0,>=3.7.0->fr-core-news-sm==3.7.0) (4.64.1)\n",
      "Requirement already satisfied: requests<3.0.0,>=2.13.0 in /Users/margauxbailleul/opt/anaconda3/lib/python3.9/site-packages (from spacy<3.8.0,>=3.7.0->fr-core-news-sm==3.7.0) (2.28.1)\n",
      "Requirement already satisfied: pydantic!=1.8,!=1.8.1,<3.0.0,>=1.7.4 in /Users/margauxbailleul/opt/anaconda3/lib/python3.9/site-packages (from spacy<3.8.0,>=3.7.0->fr-core-news-sm==3.7.0) (1.10.12)\n",
      "Requirement already satisfied: jinja2 in /Users/margauxbailleul/opt/anaconda3/lib/python3.9/site-packages (from spacy<3.8.0,>=3.7.0->fr-core-news-sm==3.7.0) (2.11.3)\n",
      "Requirement already satisfied: setuptools in /Users/margauxbailleul/opt/anaconda3/lib/python3.9/site-packages (from spacy<3.8.0,>=3.7.0->fr-core-news-sm==3.7.0) (63.4.1)\n",
      "Requirement already satisfied: packaging>=20.0 in /Users/margauxbailleul/opt/anaconda3/lib/python3.9/site-packages (from spacy<3.8.0,>=3.7.0->fr-core-news-sm==3.7.0) (23.0)\n",
      "Requirement already satisfied: langcodes<4.0.0,>=3.2.0 in /Users/margauxbailleul/opt/anaconda3/lib/python3.9/site-packages (from spacy<3.8.0,>=3.7.0->fr-core-news-sm==3.7.0) (3.3.0)\n",
      "Requirement already satisfied: numpy>=1.19.0 in /Users/margauxbailleul/opt/anaconda3/lib/python3.9/site-packages (from spacy<3.8.0,>=3.7.0->fr-core-news-sm==3.7.0) (1.26.1)\n",
      "Requirement already satisfied: typing-extensions>=4.2.0 in /Users/margauxbailleul/opt/anaconda3/lib/python3.9/site-packages (from pydantic!=1.8,!=1.8.1,<3.0.0,>=1.7.4->spacy<3.8.0,>=3.7.0->fr-core-news-sm==3.7.0) (4.3.0)\n",
      "Requirement already satisfied: charset-normalizer<3,>=2 in /Users/margauxbailleul/opt/anaconda3/lib/python3.9/site-packages (from requests<3.0.0,>=2.13.0->spacy<3.8.0,>=3.7.0->fr-core-news-sm==3.7.0) (2.0.4)\n",
      "Requirement already satisfied: idna<4,>=2.5 in /Users/margauxbailleul/opt/anaconda3/lib/python3.9/site-packages (from requests<3.0.0,>=2.13.0->spacy<3.8.0,>=3.7.0->fr-core-news-sm==3.7.0) (3.3)\n",
      "Requirement already satisfied: urllib3<1.27,>=1.21.1 in /Users/margauxbailleul/opt/anaconda3/lib/python3.9/site-packages (from requests<3.0.0,>=2.13.0->spacy<3.8.0,>=3.7.0->fr-core-news-sm==3.7.0) (1.26.11)\n",
      "Requirement already satisfied: certifi>=2017.4.17 in /Users/margauxbailleul/opt/anaconda3/lib/python3.9/site-packages (from requests<3.0.0,>=2.13.0->spacy<3.8.0,>=3.7.0->fr-core-news-sm==3.7.0) (2023.7.22)\n",
      "Requirement already satisfied: blis<0.8.0,>=0.7.8 in /Users/margauxbailleul/opt/anaconda3/lib/python3.9/site-packages (from thinc<8.3.0,>=8.1.8->spacy<3.8.0,>=3.7.0->fr-core-news-sm==3.7.0) (0.7.11)\n",
      "Requirement already satisfied: confection<1.0.0,>=0.0.1 in /Users/margauxbailleul/opt/anaconda3/lib/python3.9/site-packages (from thinc<8.3.0,>=8.1.8->spacy<3.8.0,>=3.7.0->fr-core-news-sm==3.7.0) (0.1.3)\n",
      "Requirement already satisfied: click<9.0.0,>=7.1.1 in /Users/margauxbailleul/opt/anaconda3/lib/python3.9/site-packages (from typer<0.10.0,>=0.3.0->spacy<3.8.0,>=3.7.0->fr-core-news-sm==3.7.0) (8.0.4)\n",
      "Requirement already satisfied: cloudpathlib<0.17.0,>=0.7.0 in /Users/margauxbailleul/opt/anaconda3/lib/python3.9/site-packages (from weasel<0.4.0,>=0.1.0->spacy<3.8.0,>=3.7.0->fr-core-news-sm==3.7.0) (0.16.0)\n",
      "Requirement already satisfied: MarkupSafe>=0.23 in /Users/margauxbailleul/opt/anaconda3/lib/python3.9/site-packages (from jinja2->spacy<3.8.0,>=3.7.0->fr-core-news-sm==3.7.0) (2.0.1)\n",
      "\u001b[38;5;2m✔ Download and installation successful\u001b[0m\n",
      "You can now load the package via spacy.load('fr_core_news_sm')\n"
     ]
    }
   ],
   "source": [
    "!pip install -U spacy\n",
    "!python -m spacy download fr_core_news_sm\n",
    "import spacy\n",
    "nlp = spacy.load('fr_core_news_sm')\n"
   ]
  },
  {
   "cell_type": "markdown",
   "metadata": {},
   "source": [
    "# 1. Importation des données"
   ]
  },
  {
   "cell_type": "code",
   "execution_count": 5,
   "metadata": {},
   "outputs": [
    {
     "data": {
      "text/html": [
       "<div>\n",
       "<style scoped>\n",
       "    .dataframe tbody tr th:only-of-type {\n",
       "        vertical-align: middle;\n",
       "    }\n",
       "\n",
       "    .dataframe tbody tr th {\n",
       "        vertical-align: top;\n",
       "    }\n",
       "\n",
       "    .dataframe thead th {\n",
       "        text-align: right;\n",
       "    }\n",
       "</style>\n",
       "<table border=\"1\" class=\"dataframe\">\n",
       "  <thead>\n",
       "    <tr style=\"text-align: right;\">\n",
       "      <th></th>\n",
       "      <th>Unnamed: 0</th>\n",
       "      <th>book_title</th>\n",
       "      <th>author</th>\n",
       "      <th>reader_review</th>\n",
       "      <th>rating</th>\n",
       "      <th>label</th>\n",
       "    </tr>\n",
       "  </thead>\n",
       "  <tbody>\n",
       "    <tr>\n",
       "      <th>0</th>\n",
       "      <td>0</td>\n",
       "      <td>Le Démon de la Colline aux Loups</td>\n",
       "      <td>Dimitri Rouchon-Borie</td>\n",
       "      <td>Ce n'est pas le premier roman à aborder les th...</td>\n",
       "      <td>5.0</td>\n",
       "      <td>1</td>\n",
       "    </tr>\n",
       "    <tr>\n",
       "      <th>1</th>\n",
       "      <td>1</td>\n",
       "      <td>Simple</td>\n",
       "      <td>Marie-Aude Murail</td>\n",
       "      <td>Simple, alias Barnabé, est un jeune homme de 2...</td>\n",
       "      <td>4.0</td>\n",
       "      <td>1</td>\n",
       "    </tr>\n",
       "    <tr>\n",
       "      <th>2</th>\n",
       "      <td>2</td>\n",
       "      <td>La plus secrète mémoire des hommes</td>\n",
       "      <td>Mohamed Mbougar Sarr</td>\n",
       "      <td>Pour écrire La plus secrète mémoire des hommes...</td>\n",
       "      <td>4.0</td>\n",
       "      <td>1</td>\n",
       "    </tr>\n",
       "    <tr>\n",
       "      <th>3</th>\n",
       "      <td>3</td>\n",
       "      <td>Trancher</td>\n",
       "      <td>Amélie Cordonnier</td>\n",
       "      <td>« La violence d'Aurélien est revenue. Par la f...</td>\n",
       "      <td>3.5</td>\n",
       "      <td>0</td>\n",
       "    </tr>\n",
       "    <tr>\n",
       "      <th>4</th>\n",
       "      <td>4</td>\n",
       "      <td>La guerre d'Alan, tome 2</td>\n",
       "      <td>Emmanuel Guibert</td>\n",
       "      <td>Dans ce second album de La Guerre d’Alan, Emma...</td>\n",
       "      <td>5.0</td>\n",
       "      <td>1</td>\n",
       "    </tr>\n",
       "  </tbody>\n",
       "</table>\n",
       "</div>"
      ],
      "text/plain": [
       "   Unnamed: 0                          book_title                 author  \\\n",
       "0           0    Le Démon de la Colline aux Loups  Dimitri Rouchon-Borie   \n",
       "1           1                              Simple      Marie-Aude Murail   \n",
       "2           2  La plus secrète mémoire des hommes   Mohamed Mbougar Sarr   \n",
       "3           3                            Trancher      Amélie Cordonnier   \n",
       "4           4            La guerre d'Alan, tome 2       Emmanuel Guibert   \n",
       "\n",
       "                                       reader_review  rating  label  \n",
       "0  Ce n'est pas le premier roman à aborder les th...     5.0      1  \n",
       "1  Simple, alias Barnabé, est un jeune homme de 2...     4.0      1  \n",
       "2  Pour écrire La plus secrète mémoire des hommes...     4.0      1  \n",
       "3  « La violence d'Aurélien est revenue. Par la f...     3.5      0  \n",
       "4  Dans ce second album de La Guerre d’Alan, Emma...     5.0      1  "
      ]
     },
     "execution_count": 5,
     "metadata": {},
     "output_type": "execute_result"
    }
   ],
   "source": [
    "# import du fichier csv\n",
    "data = pd.read_csv('french_books_reviews.csv', sep=',')\n",
    "data.head()"
   ]
  },
  {
   "cell_type": "markdown",
   "metadata": {},
   "source": [
    "Dans ce jeu de données nous disposons de 3 variables qualitatives et 2 variables quantitatives. \n",
    "Pour notre étude, nous avons le titre du livre, l'auteur, l'avis du lecteur, la note qu'il a attribué au livre ainsi qu'un label correspondant à la polarité de l'avis. Si l'avis est positif, le label vaut 1, s'il est neutre, il vaut 0 et s'il est négatif, il vaut -1."
   ]
  },
  {
   "cell_type": "markdown",
   "metadata": {},
   "source": [
    "## 1.1. Statistiques descriptives"
   ]
  },
  {
   "cell_type": "markdown",
   "metadata": {},
   "source": [
    "Tout d'abord, nous commençons par regarder si la base de données contient des valeurs manquantes."
   ]
  },
  {
   "cell_type": "code",
   "execution_count": 6,
   "metadata": {},
   "outputs": [
    {
     "data": {
      "text/plain": [
       "13"
      ]
     },
     "execution_count": 6,
     "metadata": {},
     "output_type": "execute_result"
    }
   ],
   "source": [
    "data[\"reader_review\"].isna().sum()"
   ]
  },
  {
   "cell_type": "markdown",
   "metadata": {},
   "source": [
    "13 lignes contiennent des valeurs manquantes. Nous décidons de les supprimer car elles ne représentent que 0.1% de la base de données.\n",
    "De plus, nous souhaitons étudiés les avis des clients, il n'y a donc pas d'intérêt à garder les lignes où il n'y a pas d'avis."
   ]
  },
  {
   "cell_type": "code",
   "execution_count": 7,
   "metadata": {},
   "outputs": [],
   "source": [
    "data = data.dropna(subset=['reader_review'])"
   ]
  },
  {
   "cell_type": "markdown",
   "metadata": {},
   "source": [
    "Nous vérifions qu'il ne reste plus de ligne sans avis."
   ]
  },
  {
   "cell_type": "code",
   "execution_count": 8,
   "metadata": {},
   "outputs": [
    {
     "data": {
      "text/plain": [
       "0"
      ]
     },
     "execution_count": 8,
     "metadata": {},
     "output_type": "execute_result"
    }
   ],
   "source": [
    "data[\"reader_review\"].isna().sum()"
   ]
  },
  {
   "cell_type": "markdown",
   "metadata": {},
   "source": [
    "Nous regardons combien il y a d'avis pour chacune des polarités."
   ]
  },
  {
   "cell_type": "code",
   "execution_count": 9,
   "metadata": {},
   "outputs": [
    {
     "data": {
      "text/html": [
       "<div>\n",
       "<style scoped>\n",
       "    .dataframe tbody tr th:only-of-type {\n",
       "        vertical-align: middle;\n",
       "    }\n",
       "\n",
       "    .dataframe tbody tr th {\n",
       "        vertical-align: top;\n",
       "    }\n",
       "\n",
       "    .dataframe thead th {\n",
       "        text-align: right;\n",
       "    }\n",
       "</style>\n",
       "<table border=\"1\" class=\"dataframe\">\n",
       "  <thead>\n",
       "    <tr style=\"text-align: right;\">\n",
       "      <th></th>\n",
       "      <th>nb_reviews</th>\n",
       "    </tr>\n",
       "    <tr>\n",
       "      <th>class</th>\n",
       "      <th></th>\n",
       "    </tr>\n",
       "  </thead>\n",
       "  <tbody>\n",
       "    <tr>\n",
       "      <th>1</th>\n",
       "      <td>6658</td>\n",
       "    </tr>\n",
       "    <tr>\n",
       "      <th>0</th>\n",
       "      <td>2129</td>\n",
       "    </tr>\n",
       "    <tr>\n",
       "      <th>-1</th>\n",
       "      <td>858</td>\n",
       "    </tr>\n",
       "  </tbody>\n",
       "</table>\n",
       "</div>"
      ],
      "text/plain": [
       "       nb_reviews\n",
       "class            \n",
       " 1           6658\n",
       " 0           2129\n",
       "-1            858"
      ]
     },
     "execution_count": 9,
     "metadata": {},
     "output_type": "execute_result"
    }
   ],
   "source": [
    "data[\"label\"].value_counts()\n",
    "\n",
    "polarity_distribution= (pd.DataFrame.from_dict(Counter(data.label.values),\n",
    "                                             orient='index')\n",
    "                                  .rename(columns={0: 'nb_reviews'}))\n",
    "polarity_distribution.index.name = 'class'\n",
    "polarity_distribution"
   ]
  },
  {
   "cell_type": "markdown",
   "metadata": {},
   "source": [
    "Dans ce jeu de données, il y a 6670 positifs, 2129 neutres et 859 négatifs.\n",
    "\n",
    "Nous calculons le pourcentage d'avis pour chaque polarité."
   ]
  },
  {
   "cell_type": "code",
   "execution_count": 10,
   "metadata": {},
   "outputs": [
    {
     "data": {
      "text/html": [
       "<div>\n",
       "<style scoped>\n",
       "    .dataframe tbody tr th:only-of-type {\n",
       "        vertical-align: middle;\n",
       "    }\n",
       "\n",
       "    .dataframe tbody tr th {\n",
       "        vertical-align: top;\n",
       "    }\n",
       "\n",
       "    .dataframe thead th {\n",
       "        text-align: right;\n",
       "    }\n",
       "</style>\n",
       "<table border=\"1\" class=\"dataframe\">\n",
       "  <thead>\n",
       "    <tr style=\"text-align: right;\">\n",
       "      <th></th>\n",
       "      <th>nb_reviews</th>\n",
       "      <th>pourcentage</th>\n",
       "    </tr>\n",
       "    <tr>\n",
       "      <th>class</th>\n",
       "      <th></th>\n",
       "      <th></th>\n",
       "    </tr>\n",
       "  </thead>\n",
       "  <tbody>\n",
       "    <tr>\n",
       "      <th>1</th>\n",
       "      <td>6658</td>\n",
       "      <td>0.69</td>\n",
       "    </tr>\n",
       "    <tr>\n",
       "      <th>0</th>\n",
       "      <td>2129</td>\n",
       "      <td>0.22</td>\n",
       "    </tr>\n",
       "    <tr>\n",
       "      <th>-1</th>\n",
       "      <td>858</td>\n",
       "      <td>0.09</td>\n",
       "    </tr>\n",
       "  </tbody>\n",
       "</table>\n",
       "</div>"
      ],
      "text/plain": [
       "       nb_reviews  pourcentage\n",
       "class                         \n",
       " 1           6658         0.69\n",
       " 0           2129         0.22\n",
       "-1            858         0.09"
      ]
     },
     "execution_count": 10,
     "metadata": {},
     "output_type": "execute_result"
    }
   ],
   "source": [
    "polarity_distribution['pourcentage'] = np.around(polarity_distribution.nb_reviews /\n",
    "                                                np.sum(polarity_distribution.nb_reviews),\n",
    "                                                2)\n",
    "polarity_distribution"
   ]
  },
  {
   "cell_type": "markdown",
   "metadata": {},
   "source": [
    "Nous représentons sur un graphique la distributions des polarités selon le nombre d'avis de livre"
   ]
  },
  {
   "cell_type": "code",
   "execution_count": 11,
   "metadata": {},
   "outputs": [
    {
     "data": {
      "text/plain": [
       "<AxesSubplot:title={'center':\"Nombre d'avis par classe\"}, xlabel='class'>"
      ]
     },
     "execution_count": 11,
     "metadata": {},
     "output_type": "execute_result"
    },
    {
     "data": {
      "image/png": "[encoded data removed]",
      "text/plain": [
       "<Figure size 800x600 with 1 Axes>"
      ]
     },
     "metadata": {},
     "output_type": "display_data"
    }
   ],
   "source": [
    "polarity_distribution.plot(kind='bar', figsize=(8, 6), legend=False, \n",
    "                           title=\"Nombre d'avis par classe\")"
   ]
  },
  {
   "cell_type": "markdown",
   "metadata": {},
   "source": [
    "Nous affichons les 5 premiers avis pour voir à quoi ressemble les données.\n"
   ]
  },
  {
   "cell_type": "code",
   "execution_count": 12,
   "metadata": {},
   "outputs": [
    {
     "name": "stdout",
     "output_type": "stream",
     "text": [
      "Ce n'est pas le premier roman à aborder les thèmes lourds de l'inceste et de l'enfance martyre, mais il le fait avec une audace et un brio incomparables qui rendent ce livre marquant dans une vie de lecteur. On y sent à quel point l'auteur n'a pas cherché à \"faire quelque chose\", on ne sent jamais l'intention, on sent juste l'urgence, incandescente, à raconter la vérité d'un homme maltraité par la vie au point de dire à la nuit «  tu ne me feras pas peur j'ai plus de noir que toi dans mon enfance ».\n",
      "------------------------\n",
      "Simple, alias Barnabé, est un jeune homme de 22 ans qui a l’âge mental d’un enfant de 3 ans. Kléber, son frère de 17 ans, entre en terminale au lycée, mais décide de s’occuper lui-même de son frère. Leur mère étant morte et leur père refusant de s’encombrer de sa progéniture afin de vivre pleinement sa nouvelle vie, Kléber refuse d’abandonner son frère à Malicroix, l’institution où il dépérissait. Se mettant tant bien que mal à la recherche d’un appartement pour vivre avec son frère, Kléber tombe sur un logement en colocation où d’autres étudiants vont vite découvrir que vivre avec Simple n’est pas toujours… aisé !\n",
      "------------------------\n",
      "Pour écrire La plus secrète mémoire des hommes, Mohamed Mbougar Sarr s'est inspiré du destin brisé de Yambo Ouologuem, premier écrivain africain à remporter le Prix Renaudot en 1968 avec Le devoir de violence, à 28 ans. Il a connu la gloire, puis l’opprobre, finissant sa vie reclus, honni par ses pairs.\n",
      "------------------------\n",
      "« La violence d'Aurélien est revenue. Par la fenêtre, peut-être bien. C'est une surprise qui te foudroie. Depuis l'épisode des miettes, ses mots te fauchent comme une gifle. T'écorchent et t'humilient. Sa main ne se lève pas, mais de sa bouche les torgnoles tombent de nouveau. Et c'est une claque au coeur, chaque fois. Tu tournes le thermostat de la douche à fond. Mais cela ne suffit pas. Ça fait des jours que tu as froid. Il y a en toi quelque chose de glacé que rien ne parvient à réchauffer. Et dans ta tête, la phrase assassine qui a tué tes pauvres rêves de paix et de petits bonheurs tranquilles n'en finit plus de tourner. « Ferme ta gueule une bonne fois pour toutes, connasse, si tu veux pas que je la réduise en miettes. » »\n",
      "------------------------\n",
      "Dans ce second album de La Guerre d’Alan, Emmanuel Guibert m’a fait suivre à nouveau les pas de cet homme, Alan Cope, jeune soldat étasunien de vingt ans qui vient de débarquer en France.\n",
      "------------------------\n",
      "Evocation des guerres de religion, Les serviteurs inutiles romancent la vie des Feuillades, une famille périgourdine, dans la seconde moitié du XVI siècle endeuillée par les massacres de la Saint Barthélémy (24 aout 1572).\n",
      "------------------------\n",
      "Voilà un roman au sujet atypique nous venant de la Chine communiste, où les nouveaux milliardaires donnent lieu à de nouveaux conflits de classe avec le monde des domestiques qu'ils ont à leur service.\n",
      "------------------------\n",
      "Trois livres composent ce grand livre. Chaque livre se divise en plusieurs parties complétées par ce que Mohamed Mbouga Sarr, l’auteur, appelle des biographèmes, le tout étant un formidable hommage à Yambo Ouologuem, écrivain malien (1940 – 2017), lauréat du Prix Renaudot en 1968 avec Le Devoir de violence. Premier romancier africain à recevoir une telle récompense, il fut accusé ensuite de plagiat, meurtrissure qu’il ne surmontera jamais vraiment.\n",
      "------------------------\n",
      "♫Il est temps de venir à bout\n",
      "------------------------\n",
      "« C'est incroyable comme l'espoir plane tout près du désespoir ».\n",
      "------------------------\n"
     ]
    }
   ],
   "source": [
    "for i in list(data['reader_review'][0:10]):\n",
    "    print(i)\n",
    "    print('------------------------')"
   ]
  },
  {
   "cell_type": "markdown",
   "metadata": {},
   "source": [
    "On remarque que certains avis ne sont pas réellement des avis mais un résumé du livre. Ces derniers devront être classé dans la catégorie neutre."
   ]
  },
  {
   "cell_type": "markdown",
   "metadata": {},
   "source": [
    "# 1.2. Séparation des données\n",
    "\n",
    "Nous séparons les données en deux jeux de données : un jeu d'entrainement et un jeu de test."
   ]
  },
  {
   "cell_type": "code",
   "execution_count": 13,
   "metadata": {},
   "outputs": [
    {
     "name": "stdout",
     "output_type": "stream",
     "text": [
      "Taille de l'ensemble d'entraînement : 6430\n",
      "Taille de l'ensemble de test : 3215\n"
     ]
    }
   ],
   "source": [
    "# On mélange les lignes du DataFrame\n",
    "data = data.sample(frac=1, random_state=42).reset_index(drop=True)\n",
    "\n",
    "# On utilise la fonction train_test_split pour diviser le DataFrame\n",
    "train_df, test_df = train_test_split(data, train_size=2/3, random_state=42)\n",
    "\n",
    "# On affiche les informations sur les ensembles d'entraînement et de test\n",
    "print(\"Taille de l'ensemble d'entraînement :\", len(train_df))\n",
    "print(\"Taille de l'ensemble de test :\", len(test_df))"
   ]
  },
  {
   "cell_type": "markdown",
   "metadata": {},
   "source": [
    "# 2. Prétraitement des données"
   ]
  },
  {
   "cell_type": "markdown",
   "metadata": {},
   "source": [
    "## 2.1 Lemmatisation"
   ]
  },
  {
   "cell_type": "markdown",
   "metadata": {},
   "source": [
    "Lemmatiser un texte implique de réduire chaque mot à sa forme de base ou à son \"lemme\".\n",
    "Cela implique la suppression des variations grammaticales (comme les temps verbaux, les genres, les nombres, etc.) pour regrouper les mots qui ont la même signification de base\n",
    "\n",
    "La lemmatisation est souvent utilisée pour améliorer la précision de l'analyse en réduisant les variations de mots à leur forme canonique. Cela aide à regrouper les mots apparentés et à réduire la complexité lors de l'analyse textuelle. "
   ]
  },
  {
   "cell_type": "code",
   "execution_count": 14,
   "metadata": {},
   "outputs": [],
   "source": [
    "def lemmatisation(text):\n",
    "    text = nlp(text)\n",
    "    lemmas = [token.lemma_ for token in text]\n",
    "    return ' '.join(lemmas)"
   ]
  },
  {
   "cell_type": "markdown",
   "metadata": {},
   "source": [
    "On applique la lemmatisation sur les avis des livres des jeux de données d'aprentissage et de test."
   ]
  },
  {
   "cell_type": "code",
   "execution_count": 15,
   "metadata": {},
   "outputs": [],
   "source": [
    "train_df['reader_review'] = train_df['reader_review'].fillna('')\n",
    "train_df['reader_review'] = train_df['reader_review'].apply(lemmatisation)"
   ]
  },
  {
   "cell_type": "code",
   "execution_count": 16,
   "metadata": {},
   "outputs": [
    {
     "name": "stdout",
     "output_type": "stream",
     "text": [
      "«    mais alors ! le père Noël exister -t il ?   » , pour - raton se demander à le lecture de ce guide qui donne envie de s’ offrir enfin à soi - même de cadeau utile ? pouvoir - être , mais ce qu’ il y avoir de certain , c’ être qu’ on y parler très peu de le mère Noël qui avoir perdre son châle .\n",
      "------------------------\n",
      "je retrouver avec beaucoup de joie l’ auteure , Marjane satrapi m’ avoir éblouir par son maturité dans Persépolis et je le retrouve tout aussi excellent dans Poulet à prune . on débarquer à Téhéran en 1958 , on retrouver le famille de l’ auteure dans ce opus mais pas de souci si vous n’ avoir pas lire Persépolis , c’ être un histoire inédit qu’ lui nous présente , toutefois je vous le conseil , il être magnifique .\n",
      "------------------------\n",
      "récit feuilletonnesque à souhait écrire par un duma jamais en manque de imagination . le aventure de Edmond Dantes être universel dans le mesure où lui pouvoir être délocaliser souher pour se inscrire dans ne importer quel pays . le auteur parl ici d vengeance et de droit à le justice . en se servir de son fortune , le protagoniste rétablit le ordre un chose et punir le scélérat en pointer leur turpitude . le personnage être bien sûr devenu de archétype au même titre que celui imaginer par Hugo . un classique !\n",
      "------------------------\n",
      "ce être un livre très agréable à lire . le auteur examin un foultitude de question concret , qui relever un mathématique simple , illustrer par un figure très clair . parmi le nombreux sujet aborder , je citer par exemple : le formation de embouteillage , le code informatique , le profil de piste de skateboard , le définition de jour de Pâques , le effet Magnus , le fort de Vauban , le forme de virage de tgv , le manière de paver , le extinction massif de espèce sur le terre , etc … Hervé Lehning expliquer bien et sans entrer dans le détail inutile . quelque « jeu » émailler le page . Bravo pour ce ouvrage !\n",
      "------------------------\n"
     ]
    }
   ],
   "source": [
    "for i in list(train_df['reader_review'][1:5]):\n",
    "    print(i)\n",
    "    print('------------------------')"
   ]
  },
  {
   "cell_type": "markdown",
   "metadata": {},
   "source": [
    "Nous faisons la même chose pour le jeu de données de test."
   ]
  },
  {
   "cell_type": "code",
   "execution_count": 17,
   "metadata": {},
   "outputs": [],
   "source": [
    "test_df['reader_review'] = test_df['reader_review'].fillna('')\n",
    "test_df['reader_review'] = test_df['reader_review'].apply(lemmatisation)"
   ]
  },
  {
   "cell_type": "code",
   "execution_count": 18,
   "metadata": {},
   "outputs": [
    {
     "name": "stdout",
     "output_type": "stream",
     "text": [
      "et s’ il falloir choisir celui qui être sauver ?\n",
      "------------------------\n",
      "se attaquer à 667 page ( dense ) de ce biographie de Fouché pouvoir apparaître comme un challenge . mais le talent de historien de Emmanuel de Waresquiel avoir vite faire de donner le envie de parcourir ce ouvrage avec détermination !\n",
      "------------------------\n",
      "ce ouvrage plaire à petit comme à grand , à adepte de beal livre illustrer comme à sorcière et sorcier en herbe .\n",
      "------------------------\n",
      "livre fantastique remplir de émotion de début à le fin . le lecture de un chapitre me donner envie de connaître le suite . je avoir dévorer ce livre . par contre , quand le fin arriver , quel tristesse de laisser ce personnage . je avoir envier de continuer un petit bout de chemin avec lui .\n",
      "------------------------\n"
     ]
    }
   ],
   "source": [
    "for i in list(test_df['reader_review'])[1:5]:\n",
    "    print(i)\n",
    "    print('------------------------')"
   ]
  },
  {
   "cell_type": "markdown",
   "metadata": {},
   "source": [
    "## 2.2. Racine des mots"
   ]
  },
  {
   "cell_type": "markdown",
   "metadata": {},
   "source": [
    "Nous remplaçons les mots par leur racine. Cela permet de réduire la complexité lors de l'analyse textuelle."
   ]
  },
  {
   "cell_type": "code",
   "execution_count": 19,
   "metadata": {},
   "outputs": [],
   "source": [
    "def stem_text(text):\n",
    "    tokenizer = TweetTokenizer(strip_handles=True, reduce_len=True)\n",
    "    stemmer = FrenchStemmer('french')\n",
    "    stems = [stemmer.stem(token) for token in tokenizer.tokenize(text)]\n",
    "    return ' '.join(stems)"
   ]
  },
  {
   "cell_type": "code",
   "execution_count": 20,
   "metadata": {},
   "outputs": [],
   "source": [
    "train_df['stems'] = train_df['reader_review'].apply(stem_text)"
   ]
  },
  {
   "cell_type": "code",
   "execution_count": 21,
   "metadata": {},
   "outputs": [
    {
     "name": "stdout",
     "output_type": "stream",
     "text": [
      "« mais alor ! le per noël exist - t il ? » , pour - raton se demand à le lectur de ce guid qui don envi de s ’ offrir enfin à soi - même de cadeau util ? pouvoir - être , mais ce qu ’ il y avoir de certain , c ’ être qu ’ on y parl tres peu de le mer noël qui avoir perdr son châl .\n",
      "------------------------\n",
      "je retrouv avec beaucoup de joi l ’ auteur , marjan satrap m ’ avoir éblou par son matur dans persépol et je le retrouv tout auss excellent dans poulet à prun . on débarqu à téhéran en 1958 , on retrouv le famill de l ’ auteur dans ce opus mais pas de souc si vous n ’ avoir pas lir persépol , c ’ être un histoir ined qu ’ lui nous présent , toutefois je vous le conseil , il être magnif .\n",
      "------------------------\n",
      "rec feuilletonnesqu à souh écrir par un dum jam en manqu de imagin . le aventur de edmond dant être universel dans le mesur où lui pouvoir être délocalis souh pour se inscrir dans ne import quel pay . le auteur parl ici d vengeanc et de droit à le justic . en se serv de son fortun , le protagon rétabl le ordre un chos et pun le scélérat en point leur turpitud . le personnag être bien sûr devenu de archétyp au même titr que celui imagin par hugo . un classiqu !\n",
      "------------------------\n",
      "ce être un livr tres agréabl à lir . le auteur examin un foultitud de question concret , qui relev un mathémat simpl , illustr par un figur tres clair . parm le nombreux sujet abord , je cit par exempl : le format de embouteillag , le cod informat , le profil de pist de skateboard , le définit de jour de pâqu , le effet magnus , le fort de vauban , le form de virag de tgv , le mani de pav , le extinct massif de espec sur le terr , etc … herv lehning expliqu bien et san entrer dans le détail inutil . quelqu « jeu » émaill le pag . bravo pour ce ouvrag !\n",
      "------------------------\n"
     ]
    }
   ],
   "source": [
    "for i in list(train_df['stems'])[1:5]:\n",
    "    print(i)\n",
    "    print('------------------------')"
   ]
  },
  {
   "cell_type": "markdown",
   "metadata": {},
   "source": [
    "Nous faisons la même chose pour le jeu de données de test."
   ]
  },
  {
   "cell_type": "code",
   "execution_count": 22,
   "metadata": {},
   "outputs": [],
   "source": [
    "test_df['stems'] = test_df['reader_review'].apply(stem_text)"
   ]
  },
  {
   "cell_type": "code",
   "execution_count": 23,
   "metadata": {},
   "outputs": [
    {
     "name": "stdout",
     "output_type": "stream",
     "text": [
      "et s ’ il falloir chois celui qui être sauv ?\n",
      "------------------------\n",
      "se attaqu à 667 pag ( dens ) de ce biograph de fouch pouvoir apparaîtr comm un challeng . mais le talent de historien de emmanuel de waresquiel avoir vit fair de don le envi de parcour ce ouvrag avec détermin !\n",
      "------------------------\n",
      "ce ouvrag plair à pet comm à grand , à adept de beal livr illustr comm à sorci et sorci en herb .\n",
      "------------------------\n",
      "livr fantast rempl de émot de début à le fin . le lectur de un chapitr me don envi de connaîtr le suit . je avoir dévor ce livr . par contr , quand le fin arriv , quel tristess de laiss ce personnag . je avoir envi de continu un pet bout de chemin avec lui .\n",
      "------------------------\n"
     ]
    }
   ],
   "source": [
    "for i in list(test_df['stems'][1:5]):\n",
    "    print(i)\n",
    "    print('------------------------')"
   ]
  },
  {
   "cell_type": "markdown",
   "metadata": {},
   "source": [
    "## 2.3. Etiqutage morphosyntaxique"
   ]
  },
  {
   "cell_type": "code",
   "execution_count": 24,
   "metadata": {},
   "outputs": [],
   "source": [
    "def replace_words_with_pos_tag(text):\n",
    "    text = nlp(text)\n",
    "    return ' '.join([token.pos_ for token in text])"
   ]
  },
  {
   "cell_type": "code",
   "execution_count": 25,
   "metadata": {},
   "outputs": [],
   "source": [
    "train_df['pos'] = train_df['reader_review'].apply(replace_words_with_pos_tag)"
   ]
  },
  {
   "cell_type": "code",
   "execution_count": 26,
   "metadata": {},
   "outputs": [
    {
     "data": {
      "text/html": [
       "<div>\n",
       "<style scoped>\n",
       "    .dataframe tbody tr th:only-of-type {\n",
       "        vertical-align: middle;\n",
       "    }\n",
       "\n",
       "    .dataframe tbody tr th {\n",
       "        vertical-align: top;\n",
       "    }\n",
       "\n",
       "    .dataframe thead th {\n",
       "        text-align: right;\n",
       "    }\n",
       "</style>\n",
       "<table border=\"1\" class=\"dataframe\">\n",
       "  <thead>\n",
       "    <tr style=\"text-align: right;\">\n",
       "      <th></th>\n",
       "      <th>Unnamed: 0</th>\n",
       "      <th>book_title</th>\n",
       "      <th>author</th>\n",
       "      <th>reader_review</th>\n",
       "      <th>rating</th>\n",
       "      <th>label</th>\n",
       "      <th>stems</th>\n",
       "      <th>pos</th>\n",
       "    </tr>\n",
       "  </thead>\n",
       "  <tbody>\n",
       "    <tr>\n",
       "      <th>3855</th>\n",
       "      <td>6198</td>\n",
       "      <td>Le guide du Noël parfait</td>\n",
       "      <td>Docteur Guido</td>\n",
       "      <td>«    mais alors ! le père Noël exister -t il ?...</td>\n",
       "      <td>5.0</td>\n",
       "      <td>1</td>\n",
       "      <td>« mais alor ! le per noël exist - t il ? » , p...</td>\n",
       "      <td>NOUN SPACE CCONJ ADV PUNCT DET NOUN PROPN VERB...</td>\n",
       "    </tr>\n",
       "    <tr>\n",
       "      <th>2514</th>\n",
       "      <td>1844</td>\n",
       "      <td>Poulet aux prunes</td>\n",
       "      <td>Marjane Satrapi</td>\n",
       "      <td>je retrouver avec beaucoup de joie l’ auteure ...</td>\n",
       "      <td>4.5</td>\n",
       "      <td>1</td>\n",
       "      <td>je retrouv avec beaucoup de joi l ’ auteur , m...</td>\n",
       "      <td>PRON VERB ADP ADV ADP VERB DET NOUN NOUN PUNCT...</td>\n",
       "    </tr>\n",
       "    <tr>\n",
       "      <th>5440</th>\n",
       "      <td>8277</td>\n",
       "      <td>Le comte de Monte-Cristo, tome 1</td>\n",
       "      <td>Alexandre Dumas</td>\n",
       "      <td>récit feuilletonnesque à souhait écrire par un...</td>\n",
       "      <td>4.5</td>\n",
       "      <td>1</td>\n",
       "      <td>rec feuilletonnesqu à souh écrir par un dum ja...</td>\n",
       "      <td>NOUN ADJ ADP NOUN ADJ ADP DET NOUN ADV ADP NOU...</td>\n",
       "    </tr>\n",
       "    <tr>\n",
       "      <th>2917</th>\n",
       "      <td>4924</td>\n",
       "      <td>Questions de maths sympas : Pour M. Et Mme Tou...</td>\n",
       "      <td>Hervé Lehning</td>\n",
       "      <td>ce être un livre très agréable à lire . le aut...</td>\n",
       "      <td>4.0</td>\n",
       "      <td>1</td>\n",
       "      <td>ce être un livr tres agréabl à lir . le auteur...</td>\n",
       "      <td>PRON AUX DET NOUN ADV ADJ ADP VERB PUNCT DET N...</td>\n",
       "    </tr>\n",
       "  </tbody>\n",
       "</table>\n",
       "</div>"
      ],
      "text/plain": [
       "      Unnamed: 0                                         book_title  \\\n",
       "3855        6198                           Le guide du Noël parfait   \n",
       "2514        1844                                  Poulet aux prunes   \n",
       "5440        8277                   Le comte de Monte-Cristo, tome 1   \n",
       "2917        4924  Questions de maths sympas : Pour M. Et Mme Tou...   \n",
       "\n",
       "               author                                      reader_review  \\\n",
       "3855    Docteur Guido  «    mais alors ! le père Noël exister -t il ?...   \n",
       "2514  Marjane Satrapi  je retrouver avec beaucoup de joie l’ auteure ...   \n",
       "5440  Alexandre Dumas  récit feuilletonnesque à souhait écrire par un...   \n",
       "2917    Hervé Lehning  ce être un livre très agréable à lire . le aut...   \n",
       "\n",
       "      rating  label                                              stems  \\\n",
       "3855     5.0      1  « mais alor ! le per noël exist - t il ? » , p...   \n",
       "2514     4.5      1  je retrouv avec beaucoup de joi l ’ auteur , m...   \n",
       "5440     4.5      1  rec feuilletonnesqu à souh écrir par un dum ja...   \n",
       "2917     4.0      1  ce être un livr tres agréabl à lir . le auteur...   \n",
       "\n",
       "                                                    pos  \n",
       "3855  NOUN SPACE CCONJ ADV PUNCT DET NOUN PROPN VERB...  \n",
       "2514  PRON VERB ADP ADV ADP VERB DET NOUN NOUN PUNCT...  \n",
       "5440  NOUN ADJ ADP NOUN ADJ ADP DET NOUN ADV ADP NOU...  \n",
       "2917  PRON AUX DET NOUN ADV ADJ ADP VERB PUNCT DET N...  "
      ]
     },
     "execution_count": 26,
     "metadata": {},
     "output_type": "execute_result"
    }
   ],
   "source": [
    "train_df[1:5]"
   ]
  },
  {
   "cell_type": "markdown",
   "metadata": {},
   "source": [
    "Nous faisons la même chose pour le jeu de données de test."
   ]
  },
  {
   "cell_type": "code",
   "execution_count": 27,
   "metadata": {},
   "outputs": [],
   "source": [
    "test_df['pos'] = test_df['reader_review'].apply(replace_words_with_pos_tag)"
   ]
  },
  {
   "cell_type": "code",
   "execution_count": 28,
   "metadata": {},
   "outputs": [
    {
     "data": {
      "text/html": [
       "<div>\n",
       "<style scoped>\n",
       "    .dataframe tbody tr th:only-of-type {\n",
       "        vertical-align: middle;\n",
       "    }\n",
       "\n",
       "    .dataframe tbody tr th {\n",
       "        vertical-align: top;\n",
       "    }\n",
       "\n",
       "    .dataframe thead th {\n",
       "        text-align: right;\n",
       "    }\n",
       "</style>\n",
       "<table border=\"1\" class=\"dataframe\">\n",
       "  <thead>\n",
       "    <tr style=\"text-align: right;\">\n",
       "      <th></th>\n",
       "      <th>Unnamed: 0</th>\n",
       "      <th>book_title</th>\n",
       "      <th>author</th>\n",
       "      <th>reader_review</th>\n",
       "      <th>rating</th>\n",
       "      <th>label</th>\n",
       "      <th>stems</th>\n",
       "      <th>pos</th>\n",
       "    </tr>\n",
       "  </thead>\n",
       "  <tbody>\n",
       "    <tr>\n",
       "      <th>1543</th>\n",
       "      <td>6591</td>\n",
       "      <td>La fin des temps</td>\n",
       "      <td>Jean-Louis Vincent (II)</td>\n",
       "      <td>et s’ il falloir choisir celui qui être sauver ?</td>\n",
       "      <td>5.0</td>\n",
       "      <td>1</td>\n",
       "      <td>et s ’ il falloir chois celui qui être sauv ?</td>\n",
       "      <td>CCONJ PRON VERB PRON VERB AUX PRON PRON AUX VE...</td>\n",
       "    </tr>\n",
       "    <tr>\n",
       "      <th>6056</th>\n",
       "      <td>3561</td>\n",
       "      <td>Fouché : Les silences de la pieuvre</td>\n",
       "      <td>Emmanuel de Waresquiel</td>\n",
       "      <td>se attaquer à 667 page ( dense ) de ce biograp...</td>\n",
       "      <td>4.0</td>\n",
       "      <td>1</td>\n",
       "      <td>se attaqu à 667 pag ( dens ) de ce biograph de...</td>\n",
       "      <td>PRON VERB ADP NUM NOUN PUNCT NOUN PUNCT ADP DE...</td>\n",
       "    </tr>\n",
       "    <tr>\n",
       "      <th>5020</th>\n",
       "      <td>4996</td>\n",
       "      <td>Mon grand grimoire de petite sorcière</td>\n",
       "      <td>Anne-Sophie Schlick</td>\n",
       "      <td>ce ouvrage plaire à petit comme à grand , à ad...</td>\n",
       "      <td>4.5</td>\n",
       "      <td>1</td>\n",
       "      <td>ce ouvrag plair à pet comm à grand , à adept d...</td>\n",
       "      <td>DET NOUN ADJ ADP ADJ ADP ADP ADJ PUNCT ADP NOU...</td>\n",
       "    </tr>\n",
       "    <tr>\n",
       "      <th>4397</th>\n",
       "      <td>5319</td>\n",
       "      <td>T'embrasser sous la neige</td>\n",
       "      <td>Emily Blaine</td>\n",
       "      <td>livre fantastique remplir de émotion de début ...</td>\n",
       "      <td>5.0</td>\n",
       "      <td>1</td>\n",
       "      <td>livr fantast rempl de émot de début à le fin ....</td>\n",
       "      <td>NOUN ADJ VERB ADP NOUN ADP NOUN ADP DET NOUN P...</td>\n",
       "    </tr>\n",
       "  </tbody>\n",
       "</table>\n",
       "</div>"
      ],
      "text/plain": [
       "      Unnamed: 0                             book_title  \\\n",
       "1543        6591                       La fin des temps   \n",
       "6056        3561    Fouché : Les silences de la pieuvre   \n",
       "5020        4996  Mon grand grimoire de petite sorcière   \n",
       "4397        5319              T'embrasser sous la neige   \n",
       "\n",
       "                       author  \\\n",
       "1543  Jean-Louis Vincent (II)   \n",
       "6056   Emmanuel de Waresquiel   \n",
       "5020      Anne-Sophie Schlick   \n",
       "4397             Emily Blaine   \n",
       "\n",
       "                                          reader_review  rating  label  \\\n",
       "1543   et s’ il falloir choisir celui qui être sauver ?     5.0      1   \n",
       "6056  se attaquer à 667 page ( dense ) de ce biograp...     4.0      1   \n",
       "5020  ce ouvrage plaire à petit comme à grand , à ad...     4.5      1   \n",
       "4397  livre fantastique remplir de émotion de début ...     5.0      1   \n",
       "\n",
       "                                                  stems  \\\n",
       "1543      et s ’ il falloir chois celui qui être sauv ?   \n",
       "6056  se attaqu à 667 pag ( dens ) de ce biograph de...   \n",
       "5020  ce ouvrag plair à pet comm à grand , à adept d...   \n",
       "4397  livr fantast rempl de émot de début à le fin ....   \n",
       "\n",
       "                                                    pos  \n",
       "1543  CCONJ PRON VERB PRON VERB AUX PRON PRON AUX VE...  \n",
       "6056  PRON VERB ADP NUM NOUN PUNCT NOUN PUNCT ADP DE...  \n",
       "5020  DET NOUN ADJ ADP ADJ ADP ADP ADJ PUNCT ADP NOU...  \n",
       "4397  NOUN ADJ VERB ADP NOUN ADP NOUN ADP DET NOUN P...  "
      ]
     },
     "execution_count": 28,
     "metadata": {},
     "output_type": "execute_result"
    }
   ],
   "source": [
    "test_df[1:5]"
   ]
  },
  {
   "cell_type": "markdown",
   "metadata": {},
   "source": [
    "Etant donné que notre fonction de lemmatisation est assez longue a exécuter, nous avons décidé de sauvegarder les jeux de données de test et d'apprentissage dans des fichiers pickle."
   ]
  },
  {
   "cell_type": "code",
   "execution_count": 29,
   "metadata": {},
   "outputs": [],
   "source": [
    "# Sauvegarde\n",
    "train_df.to_pickle('train.pkl')\n",
    "test_df.to_pickle('test.pkl')"
   ]
  },
  {
   "cell_type": "markdown",
   "metadata": {},
   "source": [
    "## 2.4. Entités nommées"
   ]
  },
  {
   "cell_type": "code",
   "execution_count": 30,
   "metadata": {},
   "outputs": [],
   "source": [
    "def ner(text):\n",
    "    text = nlp(text)\n",
    "    new_text = []\n",
    "    for token in text:\n",
    "        if token.ent_iob_ == \"O\":\n",
    "            new_text.append(token.text)\n",
    "        elif token.ent_iob_ == \"B\":\n",
    "            new_text.append(token.ent_type_)\n",
    "        # Si l'entité comprend plusieurs mot on ne répète pas l'étiquette\n",
    "        else:\n",
    "            continue\n",
    "    return ' '.join(new_text)"
   ]
  },
  {
   "cell_type": "markdown",
   "metadata": {},
   "source": [
    "Pour expliquer cette fonction, nous prenons l'exemple avec la phrase suivante :\n",
    "\"Elle vit à Paris et travaille chez Google. Elle a rencontré John Doe à New York.\"\n",
    "\n",
    "La fontion pour chaque mot donne le résultat suivant :\n",
    "\n",
    "- \"Elle\" : \"O\" (Outside), car ce mot ne fait pas partie d'une entité nommée.\n",
    "\n",
    "- \"vit\" : \"O\" (Outside), pas une entité nommée.\n",
    "\n",
    "- \"à\" : \"O\" (Outside), pas une entité nommée.\n",
    "\n",
    "- \"Paris\" :\"B\" (Beginning) et ent_type_ = \"LIEU\" , car c'est le début d'une entité nommée de type \"LIEU\".\n",
    "\n",
    "- \"et\" : \"O\" (Outside), pas une entité nommée.\n",
    "\n",
    "- \"travaille\" : \"O\" (Outside), pas une entité nommée.\n",
    "\n",
    "- \"chez\" : \"O\" (Outside), pas une entité nommée.\n",
    "\n",
    "- \"Google\" : \"B\" (Beginning) et ent_type_ = \"ORGANISATION\", car c'est le début d'une entité nommée de type \"ORGANISATION\".\n",
    "\n",
    "- \".\" : \"O\" (Outside), pas une entité nommée.\n",
    "\n",
    "- \"Elle\" : \"O\" (Outside), pas une entité nommée.\n",
    "\n",
    "- \"a\" : \"O\" (Outside), pas une entité nommée.\n",
    "\n",
    "- \"rencontré\" : \"O\" (Outside), pas une entité nommée.\n",
    "\n",
    "- \"John\" : \"B\" (Beginning) et ent_type_ = \"PERSONNE\", car c'est le début d'une entité nommée de type \"PERSONNE\".\n",
    "\n",
    "- \"Doe\" : \"I\" (Inside) et ent_type_ = \"PERSONNE\", car c'est la suite d'une entité nommée de type \"PERSONNE\".\n",
    "\n",
    "- \"à\" : \"O\" (Outside), pas une entité nommée.\n",
    "\n",
    "- \"New\" : \"B\" (Beginning) et ent_type_ = \"LIEU\", car c'est le début d'une entité nommée de type \"LIEU\".\n",
    "\n",
    "- \"York\" : \"I\" (Inside) et ent_type_ = \"LIEU\", car c'est la suite d'une entité nommée de type \"LIEU\".\n",
    "\n",
    "- \".\" : \"O\" (Outside), pas une entité nommée.\n",
    "\n",
    "\n",
    "Les entités de type I ne sont pas affichées.\n",
    "Pour les mots de type B, ils seront remplacées par le type de l'entité nommée. Par exemple, \"Paris\" sera remplacé par \"LIEU\".\n",
    "\n",
    "On aura donc la phrase suivante :\n",
    "\n",
    "\"Elle vit à LIEU et travaille chez ORGANISATION. Elle a rencontré PERSONNE à LIEU.\""
   ]
  },
  {
   "cell_type": "markdown",
   "metadata": {},
   "source": [
    "Nous appliquons cette fonction sur les jeux de données d'apprentissage et de test."
   ]
  },
  {
   "cell_type": "code",
   "execution_count": 31,
   "metadata": {},
   "outputs": [],
   "source": [
    "train_df['entites_nommees'] = train_df['reader_review'].apply(ner)"
   ]
  },
  {
   "cell_type": "code",
   "execution_count": 32,
   "metadata": {},
   "outputs": [
    {
     "name": "stdout",
     "output_type": "stream",
     "text": [
      "«     mais alors ! le père MISC exister -t il ?    » , pour - raton se demander à le lecture de ce guide qui donne envie de s ’ offrir enfin à soi - même de cadeau utile ? pouvoir - être , mais ce qu ’ il y avoir de certain , c ’ être qu ’ on y parler très peu de le mère MISC qui avoir perdre son châle .\n",
      "------------------------\n",
      "je retrouver avec beaucoup de joie l ’ auteure , PER satrapi m ’ avoir éblouir par son maturité dans MISC et je le retrouve tout aussi excellent dans LOC à prune . on débarquer à LOC en 1958 , on retrouver le famille de l ’ auteure dans ce opus mais pas de souci si vous n ’ avoir pas lire LOC , c ’ être un histoire inédit qu ’ lui nous présente , toutefois je vous le conseil , il être magnifique .\n",
      "------------------------\n",
      "récit feuilletonnesque à souhait écrire par un duma jamais en manque de imagination . le aventure de PER être universel dans le mesure où lui pouvoir être délocaliser souher pour se inscrire dans ne importer quel pays . le auteur parl ici d vengeance et de droit à le justice . en se servir de son fortune , le protagoniste rétablit le ordre un chose et punir le scélérat en pointer leur turpitude . le personnage être bien sûr devenu de archétype au même titre que celui imaginer par PER . un classique !\n",
      "------------------------\n",
      "ce être un livre très agréable à lire . le auteur examin un foultitude de question concret , qui relever un mathématique simple , illustrer par un figure très clair . parmi le nombreux sujet aborder , je citer par exemple : le formation de embouteillage , le code informatique , le profil de piste de skateboard , le définition de jour de MISC , le effet PER , le fort de PER , le forme de virage de MISC , le manière de paver , le extinction massif de espèce sur le terre , etc … PER expliquer bien et sans entrer dans le détail inutile . quelque « jeu » émailler le page . PER pour ce ouvrage !\n",
      "------------------------\n"
     ]
    }
   ],
   "source": [
    "for i in list(train_df['entites_nommees'][1:5]):\n",
    "    print(i)\n",
    "    print('------------------------')"
   ]
  },
  {
   "cell_type": "code",
   "execution_count": 33,
   "metadata": {},
   "outputs": [],
   "source": [
    "test_df['entites_nommees'] = test_df['reader_review'].apply(ner)"
   ]
  },
  {
   "cell_type": "code",
   "execution_count": 34,
   "metadata": {},
   "outputs": [
    {
     "name": "stdout",
     "output_type": "stream",
     "text": [
      "et s ’ il falloir choisir celui qui être sauver ?\n",
      "------------------------\n",
      "se attaquer à 667 page ( dense ) de ce biographie de PER pouvoir apparaître comme un challenge . mais le talent de historien de PER avoir vite faire de donner le envie de parcourir ce ouvrage avec détermination !\n",
      "------------------------\n",
      "ce ouvrage plaire à petit comme à grand , à adepte de beal livre illustrer comme à sorcière et sorcier en herbe .\n",
      "------------------------\n",
      "livre fantastique remplir de émotion de début à le fin . le lecture de un chapitre me donner envie de connaître le suite . je avoir dévorer ce livre . par contre , quand le fin arriver , quel tristesse de laisser ce personnage . je avoir envier de continuer un petit bout de chemin avec lui .\n",
      "------------------------\n"
     ]
    }
   ],
   "source": [
    "for i in list(test_df['entites_nommees'][1:5]):\n",
    "    print(i)\n",
    "    print('------------------------')"
   ]
  },
  {
   "cell_type": "code",
   "execution_count": 35,
   "metadata": {},
   "outputs": [],
   "source": [
    "# Sauvegarde\n",
    "train_df.to_pickle('train.pkl')\n",
    "test_df.to_pickle('test.pkl')"
   ]
  },
  {
   "cell_type": "markdown",
   "metadata": {},
   "source": [
    "## 2.5. Traitement des URLS "
   ]
  },
  {
   "cell_type": "markdown",
   "metadata": {},
   "source": [
    "Nous remplaçons les URLS par un mot fictif "
   ]
  },
  {
   "cell_type": "code",
   "execution_count": 36,
   "metadata": {},
   "outputs": [],
   "source": [
    "def remplacer_url(text, url_replacement='urlexpr'):\n",
    "    text = re.sub(r'https?:\\S+', url_replacement, text) # http://t.co/eFKkE9W0GI\n",
    "    text = re.sub(r'\\bwww\\.\\S+', url_replacement, text) # www.example.com\n",
    "    return text"
   ]
  },
  {
   "cell_type": "code",
   "execution_count": 37,
   "metadata": {},
   "outputs": [],
   "source": [
    "train_df['sans_url'] = train_df['reader_review'].apply(remplacer_url)"
   ]
  },
  {
   "cell_type": "code",
   "execution_count": 38,
   "metadata": {},
   "outputs": [
    {
     "name": "stdout",
     "output_type": "stream",
     "text": [
      "«    mais alors ! le père Noël exister -t il ?   » , pour - raton se demander à le lecture de ce guide qui donne envie de s’ offrir enfin à soi - même de cadeau utile ? pouvoir - être , mais ce qu’ il y avoir de certain , c’ être qu’ on y parler très peu de le mère Noël qui avoir perdre son châle .\n",
      "------------------------\n",
      "je retrouver avec beaucoup de joie l’ auteure , Marjane satrapi m’ avoir éblouir par son maturité dans Persépolis et je le retrouve tout aussi excellent dans Poulet à prune . on débarquer à Téhéran en 1958 , on retrouver le famille de l’ auteure dans ce opus mais pas de souci si vous n’ avoir pas lire Persépolis , c’ être un histoire inédit qu’ lui nous présente , toutefois je vous le conseil , il être magnifique .\n",
      "------------------------\n",
      "récit feuilletonnesque à souhait écrire par un duma jamais en manque de imagination . le aventure de Edmond Dantes être universel dans le mesure où lui pouvoir être délocaliser souher pour se inscrire dans ne importer quel pays . le auteur parl ici d vengeance et de droit à le justice . en se servir de son fortune , le protagoniste rétablit le ordre un chose et punir le scélérat en pointer leur turpitude . le personnage être bien sûr devenu de archétype au même titre que celui imaginer par Hugo . un classique !\n",
      "------------------------\n",
      "ce être un livre très agréable à lire . le auteur examin un foultitude de question concret , qui relever un mathématique simple , illustrer par un figure très clair . parmi le nombreux sujet aborder , je citer par exemple : le formation de embouteillage , le code informatique , le profil de piste de skateboard , le définition de jour de Pâques , le effet Magnus , le fort de Vauban , le forme de virage de tgv , le manière de paver , le extinction massif de espèce sur le terre , etc … Hervé Lehning expliquer bien et sans entrer dans le détail inutile . quelque « jeu » émailler le page . Bravo pour ce ouvrage !\n",
      "------------------------\n",
      "ce livre être un vrai coup de cœur , je ne pouvoir plus lâcher mon liseuse quand je reprendre mon lecture ( je avoir même devoir cacher mon liseuse pour pouvoir réviser mon examen correctement 😅 )\n",
      "------------------------\n",
      "qui n’ avoir jamais connaître le moindre échec dans son vie ? à moins d’ être un optimiste invétérer , celui-ci pouvoir parfois être difficile à digérer . et si vous le voyiez plutôt comme un chance ? celui de mieux se connaître , de se réinventer , un invitation à voir ce que vous ne vouloir pas , un chance de s’ arrêter dans un vie trop hâtif , un leçon d’ humilité , un nouveau manière d’ oser vivre pleinement et de prendre un risque … le liste être long .\n",
      "------------------------\n",
      "voilà un roman que l’ on pouvoir qualifier de dater . nous être dans un époque révolu , celui de gentleman britannique à le conquête de Monde et de cœur sou le règne de Victoria .\n",
      "------------------------\n",
      "il s’ agir sûrement de mon révélation de l’ année 2021 . en rentrer dans mon librairie habituel , je chercher un livre historique accessible . je être ressortir avec un chef d’ œuvre . il être très accessible et décrire parfaitement le civilisation de ce période , avant l’ invention de le poudre , où tout le peuple être à peu près égal . il s’ agir de regarder le monde , ainsi que l’ économie qui en découle , via le prisme de chaque civilisation .\n",
      "------------------------\n",
      "beaucoup d’ information dans ce livre - documentaire . l’ auteur y détailler minutieusement le sort de tout ce ancien nazi , dont l’ expérience acquérir sou le drapeau de troisième reich , avoir beaucoup intéresser le puissance de l’ après-guerre , tout entière mobiliser pour le guerre froid qui s’ annoncer . tortionnaire , gestionnaire de camp , manipulateur d’ information , commando en rupture de ban , il avoir être nombreux à vivre un vie respectable et à mourir de vieillesse dans leur lit , ce qui n’ avoir pas être le sort de leur millier de victime . très instructif mais un peu désespérer sur le notion tout relatif de justice .\n",
      "------------------------\n"
     ]
    }
   ],
   "source": [
    "for i in list(train_df[\"sans_url\"][1:10]):\n",
    "    print(i)\n",
    "    print('------------------------')"
   ]
  },
  {
   "cell_type": "markdown",
   "metadata": {},
   "source": [
    "Nous faisons la même chose pour le jeu de données de test."
   ]
  },
  {
   "cell_type": "code",
   "execution_count": 39,
   "metadata": {},
   "outputs": [],
   "source": [
    "test_df['sans_url'] = test_df['reader_review'].apply(remplacer_url)"
   ]
  },
  {
   "cell_type": "code",
   "execution_count": 40,
   "metadata": {},
   "outputs": [
    {
     "name": "stdout",
     "output_type": "stream",
     "text": [
      "et s’ il falloir choisir celui qui être sauver ?\n",
      "------------------------\n",
      "se attaquer à 667 page ( dense ) de ce biographie de Fouché pouvoir apparaître comme un challenge . mais le talent de historien de Emmanuel de Waresquiel avoir vite faire de donner le envie de parcourir ce ouvrage avec détermination !\n",
      "------------------------\n",
      "ce ouvrage plaire à petit comme à grand , à adepte de beal livre illustrer comme à sorcière et sorcier en herbe .\n",
      "------------------------\n",
      "livre fantastique remplir de émotion de début à le fin . le lecture de un chapitre me donner envie de connaître le suite . je avoir dévorer ce livre . par contre , quand le fin arriver , quel tristesse de laisser ce personnage . je avoir envier de continuer un petit bout de chemin avec lui .\n",
      "------------------------\n",
      "Super roman de Noel , qui en plus se passer en Martinique de coup il faire chaud . le personnage être profond et bien travailler . il y avoir de le bienveillance et de consentement entrer le protagoniste , qui être clairement afficher et ca fait de bien dans un romance . on se doute de le histoire mais ce être tellement bien écrire que on vouloir savoir comment et pourquoi . je avoir bien aimer le alterne de point de vue ainsi que le retour dans le passé .\n",
      "------------------------\n",
      "a son retour de le guerre en Europe , Sam Hall , jeune citoyen de Mohawk ( ville imaginaire de l’ état de New York ) , n’ avoir qu’ un envie : boire avec le copain , jouer à course , profiter de le vie . c’ être plus que n’ en pouvoir supporter son jeune épouse Jenny , surtout après le naissance de son fils Ned . lui demande le divorce , il le refuse et s’ en prendre au malheureux avocat de Jenny ( un scène d’ anthologie ! ) .\n",
      "------------------------\n",
      "lui être cinq amie dans un petit ville , au milieu de année 80 . un rêve , un désillusion déjà …\n",
      "------------------------\n",
      "comme un urgence .\n",
      "------------------------\n",
      "le guerre de Vietnam être un conflit interminable qui durer trente an . tout de abord avec le France qui envoyer 150 000 homme et quitter le terrain après le défaite de Dien - bien - Phu pouvoir avec le États-Unis qui déployer un million de combattant et ne lésiner sur aucun moyen , même le plus barbare , avant de abandonner en 1975 . ainsi larguer -ils sur le pays le bagatelle de 7 million de tonne de bombe de tout sorte ( dont le napalm , le phosphore blanc et le obu à fragmentation ) être trois fois plus que tout ce qui être déverser sur le Europe et le Asie au cours de le second guerre mondial . le arme le plus terrible être le Agent oranger , un défoliant à base de dioxine , fabriquer par Dow Chemicals , Monsanto et quelque autre , qui transformer un million de hectare de jungle en désert pour pouvoir plus aisément débusquer le soldat Viet - Congs . au total , cent million de litre de ce poison être pulvériser sur le pays , polluer le terre , le rizière , le cours de eau et le nappe phréatique pour un année . un biocide dantesque sans oublier un coût humain monstrueux . 4,8 million de vietnamien et un dizaine de millier de GI' s y être exposer et développer tout sorte de cancer et autre maladie grave . le femme se mettre à accoucher de bébé mort - naître , difforme , hydrocéphale , aveugle , sans bras , sans jambe , etc. et celer continuer encore et encore , sans doute tant que tout le pays ne être pas dépolluer   !\n",
      "------------------------\n"
     ]
    }
   ],
   "source": [
    "for i in list(test_df[\"sans_url\"][1:10]):\n",
    "    print(i)\n",
    "    print('------------------------')"
   ]
  },
  {
   "cell_type": "code",
   "execution_count": 41,
   "metadata": {},
   "outputs": [
    {
     "data": {
      "text/plain": [
       "((6430, 10), (3215, 10))"
      ]
     },
     "execution_count": 41,
     "metadata": {},
     "output_type": "execute_result"
    }
   ],
   "source": [
    "train_df.shape, test_df.shape"
   ]
  },
  {
   "cell_type": "code",
   "execution_count": 42,
   "metadata": {},
   "outputs": [],
   "source": [
    "# Sauvegarde\n",
    "train_df.to_pickle('train.pkl')\n",
    "test_df.to_pickle('test.pkl')"
   ]
  },
  {
   "cell_type": "markdown",
   "metadata": {},
   "source": [
    "## 2.6 Suppression de certains mots"
   ]
  },
  {
   "cell_type": "code",
   "execution_count": 43,
   "metadata": {},
   "outputs": [],
   "source": [
    "train_df = pd.read_pickle('train.pkl')\n",
    "test_df = pd.read_pickle('test.pkl')"
   ]
  },
  {
   "cell_type": "markdown",
   "metadata": {},
   "source": [
    "La suppression de certains mots comme les \"mots vides\", c'est-à-dire les mots qui n'apportent pas d'information pour la classification, permettent de se focaliser sur les mots les plus importants. Par exemple, les mots \"et\", \"car\", \"le\", \"la\"... n'apportent pas d'information. \n",
    "De plus, les modèles d'analyse de sentiments peuvent être sensibles à la dimensionnalité élevée des données. \n",
    "\n",
    "En réduisant le vocabulaire, on réduit le nombre de mots que le modèle doit prendre en compte, ce qui peut améliorer l'efficacité de l'apprentissage et la vitesse d'entraînement.\n",
    "Certains mots peuvent apparaître rarement ou être spécifiques à des documents particuliers, ce qui peut introduire du bruit dans le modèle. \n",
    "Par ailleurs, en se concentrant sur les termes les plus fréquents et les plus informatifs, le modèle peut se généraliser plus efficacement à de nouveaux textes. Cela peut également contribuer à éviter le surajustement aux données d'entraînement.\n"
   ]
  },
  {
   "cell_type": "code",
   "execution_count": 44,
   "metadata": {},
   "outputs": [
    {
     "name": "stdout",
     "output_type": "stream",
     "text": [
      "['au', 'aux', 'avec', 'ce', 'ces', 'dans', 'de', 'des', 'du', 'elle', 'en', 'et', 'eux', 'il', 'ils', 'je', 'la', 'le', 'les', 'leur', 'lui', 'ma', 'mais', 'me', 'même', 'mes', 'moi', 'mon', 'ne', 'nos', 'notre', 'nous', 'on', 'ou', 'par', 'pas', 'pour', 'qu', 'que', 'qui', 'sa', 'se', 'ses', 'son', 'sur', 'ta', 'te', 'tes', 'toi', 'ton', 'tu', 'un', 'une', 'vos', 'votre', 'vous', 'c', 'd', 'j', 'l', 'à', 'm', 'n', 's', 't', 'y', 'été', 'étée', 'étées', 'étés', 'étant', 'étante', 'étants', 'étantes', 'suis', 'es', 'est', 'sommes', 'êtes', 'sont', 'serai', 'seras', 'sera', 'serons', 'serez', 'seront', 'serais', 'serait', 'serions', 'seriez', 'seraient', 'étais', 'était', 'étions', 'étiez', 'étaient', 'fus', 'fut', 'fûmes', 'fûtes', 'furent', 'sois', 'soit', 'soyons', 'soyez', 'soient', 'fusse', 'fusses', 'fût', 'fussions', 'fussiez', 'fussent', 'ayant', 'ayante', 'ayantes', 'ayants', 'eu', 'eue', 'eues', 'eus', 'ai', 'as', 'avons', 'avez', 'ont', 'aurai', 'auras', 'aura', 'aurons', 'aurez', 'auront', 'aurais', 'aurait', 'aurions', 'auriez', 'auraient', 'avais', 'avait', 'avions', 'aviez', 'avaient', 'eut', 'eûmes', 'eûtes', 'eurent', 'aie', 'aies', 'ait', 'ayons', 'ayez', 'aient', 'eusse', 'eusses', 'eût', 'eussions', 'eussiez', 'eussent']\n"
     ]
    }
   ],
   "source": [
    "sw = nltk.corpus.stopwords.words('french')\n",
    "print(sw)"
   ]
  },
  {
   "cell_type": "markdown",
   "metadata": {},
   "source": [
    "# 3. Calcul des valeurs des descripteurs"
   ]
  },
  {
   "cell_type": "markdown",
   "metadata": {},
   "source": [
    "## 3.1. Séparation du jeu de données d'entrainement en 2 jeux de données\n",
    "\n",
    "Nous séparons le jeu de données d'entrainement en 2 jeux de données : un jeu de données d'entrainement et un jeu de données de validation. "
   ]
  },
  {
   "cell_type": "code",
   "execution_count": 45,
   "metadata": {},
   "outputs": [],
   "source": [
    "from sklearn.model_selection import train_test_split"
   ]
  },
  {
   "cell_type": "code",
   "execution_count": 46,
   "metadata": {},
   "outputs": [],
   "source": [
    "X_train, X_valid, y_train, y_valid = train_test_split(train_df['reader_review'],\n",
    "                                                      train_df['label'],\n",
    "                                                      train_size=0.75,\n",
    "                                                      random_state=5)"
   ]
  },
  {
   "cell_type": "code",
   "execution_count": 47,
   "metadata": {},
   "outputs": [
    {
     "data": {
      "text/plain": [
       "((4822,), (1608,))"
      ]
     },
     "execution_count": 47,
     "metadata": {},
     "output_type": "execute_result"
    }
   ],
   "source": [
    "X_train.shape, X_valid.shape"
   ]
  },
  {
   "cell_type": "code",
   "execution_count": 48,
   "metadata": {},
   "outputs": [
    {
     "data": {
      "text/plain": [
       "1871    1\n",
       "7654   -1\n",
       "1863   -1\n",
       "4761    1\n",
       "6294    0\n",
       "       ..\n",
       "2606    1\n",
       "5466    1\n",
       "3191    1\n",
       "7438    1\n",
       "5113    1\n",
       "Name: label, Length: 4822, dtype: int64"
      ]
     },
     "execution_count": 48,
     "metadata": {},
     "output_type": "execute_result"
    }
   ],
   "source": [
    "y_train"
   ]
  },
  {
   "cell_type": "markdown",
   "metadata": {},
   "source": [
    "Pour le jeu de données tests, on met la variable label dans un objet \"y_test\" et la colonne \"reader_review\" dans un objet \"X_test\"."
   ]
  },
  {
   "cell_type": "code",
   "execution_count": 49,
   "metadata": {},
   "outputs": [],
   "source": [
    "X_test, y_test = test_df['reader_review'], test_df['label']"
   ]
  },
  {
   "cell_type": "markdown",
   "metadata": {},
   "source": [
    "## 3.2. Présence ou absence de certains mots : binaire"
   ]
  },
  {
   "cell_type": "code",
   "execution_count": 50,
   "metadata": {},
   "outputs": [],
   "source": [
    "from sklearn.feature_extraction.text import CountVectorizer"
   ]
  },
  {
   "cell_type": "code",
   "execution_count": 51,
   "metadata": {},
   "outputs": [],
   "source": [
    "bin_count = CountVectorizer(binary=True, stop_words=sw, strip_accents='unicode')"
   ]
  },
  {
   "cell_type": "code",
   "execution_count": 52,
   "metadata": {},
   "outputs": [
    {
     "name": "stderr",
     "output_type": "stream",
     "text": [
      "/Users/margauxbailleul/opt/anaconda3/lib/python3.9/site-packages/sklearn/feature_extraction/text.py:396: UserWarning: Your stop_words may be inconsistent with your preprocessing. Tokenizing the stop words generated tokens ['etaient', 'etais', 'etait', 'etant', 'etante', 'etantes', 'etants', 'ete', 'etee', 'etees', 'etes', 'etiez', 'etions', 'eumes', 'eutes', 'fumes', 'futes', 'meme'] not in stop_words.\n",
      "  warnings.warn(\n"
     ]
    },
    {
     "data": {
      "text/plain": [
       "CountVectorizer(binary=True,\n",
       "                stop_words=['au', 'aux', 'avec', 'ce', 'ces', 'dans', 'de',\n",
       "                            'des', 'du', 'elle', 'en', 'et', 'eux', 'il', 'ils',\n",
       "                            'je', 'la', 'le', 'les', 'leur', 'lui', 'ma',\n",
       "                            'mais', 'me', 'même', 'mes', 'moi', 'mon', 'ne',\n",
       "                            'nos', ...],\n",
       "                strip_accents='unicode')"
      ]
     },
     "execution_count": 52,
     "metadata": {},
     "output_type": "execute_result"
    }
   ],
   "source": [
    "bin_count.fit(X_train)\n",
    "bin_count"
   ]
  },
  {
   "cell_type": "code",
   "execution_count": 53,
   "metadata": {},
   "outputs": [
    {
     "data": {
      "text/plain": [
       "<4822x17638 sparse matrix of type '<class 'numpy.int64'>'\n",
       "\twith 133795 stored elements in Compressed Sparse Row format>"
      ]
     },
     "execution_count": 53,
     "metadata": {},
     "output_type": "execute_result"
    }
   ],
   "source": [
    "X_train_vectorized_bin = bin_count.transform(X_train)\n",
    "X_train_vectorized_bin"
   ]
  },
  {
   "cell_type": "code",
   "execution_count": 54,
   "metadata": {},
   "outputs": [],
   "source": [
    "X_valid_vectorized_bin = bin_count.transform(X_valid)\n",
    "X_test_vectorized_bin = bin_count.transform(X_test)"
   ]
  },
  {
   "cell_type": "code",
   "execution_count": 55,
   "metadata": {},
   "outputs": [
    {
     "data": {
      "text/plain": [
       "<1608x17638 sparse matrix of type '<class 'numpy.int64'>'\n",
       "\twith 40933 stored elements in Compressed Sparse Row format>"
      ]
     },
     "execution_count": 55,
     "metadata": {},
     "output_type": "execute_result"
    }
   ],
   "source": [
    "X_valid_vectorized_bin"
   ]
  },
  {
   "cell_type": "markdown",
   "metadata": {},
   "source": [
    "## 3.3 Numérique discret : décompte d'occurences"
   ]
  },
  {
   "cell_type": "code",
   "execution_count": 56,
   "metadata": {},
   "outputs": [],
   "source": [
    "vect_count = CountVectorizer().fit(X_train)"
   ]
  },
  {
   "cell_type": "code",
   "execution_count": 57,
   "metadata": {},
   "outputs": [
    {
     "data": {
      "text/plain": [
       "array(['000', '02', '03', '08', '10', '100', '1000', '1078', '109', '11',\n",
       "       '112', '115', '12', '1200', '121', '125', '12an', '12heure', '13',\n",
       "       '130', '130p', '14', '140', '141', '1415', '1425', '144', '14an',\n",
       "       '14ans', '15', '150', '1518', '153', '15jour', '16', '160', '1600',\n",
       "       '1604', '1613', '1615', '164', '165', '1664', '1665', '1691',\n",
       "       '16èm', '17', '173', '1750', '1756'], dtype=object)"
      ]
     },
     "execution_count": 57,
     "metadata": {},
     "output_type": "execute_result"
    }
   ],
   "source": [
    "vect_count.get_feature_names_out()[:50]"
   ]
  },
  {
   "cell_type": "code",
   "execution_count": 58,
   "metadata": {},
   "outputs": [
    {
     "data": {
      "text/plain": [
       "array(['éviter', 'évocateur', 'évocation', 'évoluer', 'évolution',\n",
       "       'évolué', 'évoqu', 'évoquer', 'évènement', 'évènementiel',\n",
       "       'événement', 'êkho', 'êtr', 'être', 'île', 'îles', 'ïne', 'ôshi',\n",
       "       'ôte', 'örn', 'œdipe', 'œdipienn', 'œil', 'œuf', 'œufs', 'œuvre',\n",
       "       'œuvrer', 'œuvré', 'достоевский', 'михайлович', 'фёдор', '日光流年',\n",
       "       '阎连科', '𝐻𝑒𝑎𝑟𝑡𝑠', '𝐽𝑒', '𝑁𝑜𝑒', '𝑇𝑎𝑖𝑛𝑡𝑒𝑑', '𝑎𝑖𝑚𝑒𝑟', '𝑓𝑒𝑟𝑎𝑖𝑠', '𝑡𝑒',\n",
       "       '𝗟𝗮', '𝗰𝗵𝗼𝘀𝗲', '𝗱𝗶𝘀𝗽𝗼𝘀𝗲𝘀', '𝗲𝗻', '𝗲𝘁', '𝗽𝗿𝗼𝗽𝗼𝘀𝗲', '𝗾𝘂𝗲𝗹𝗾𝘂𝗲', '𝘁𝗲',\n",
       "       '𝘁𝘂', '𝘃𝗶𝗲'], dtype=object)"
      ]
     },
     "execution_count": 58,
     "metadata": {},
     "output_type": "execute_result"
    }
   ],
   "source": [
    "vect_count.get_feature_names_out()[-50:]"
   ]
  },
  {
   "cell_type": "code",
   "execution_count": 59,
   "metadata": {},
   "outputs": [
    {
     "data": {
      "text/plain": [
       "18104"
      ]
     },
     "execution_count": 59,
     "metadata": {},
     "output_type": "execute_result"
    }
   ],
   "source": [
    "len(vect_count.get_feature_names_out())"
   ]
  },
  {
   "cell_type": "code",
   "execution_count": 60,
   "metadata": {},
   "outputs": [
    {
     "data": {
      "text/plain": [
       "<4822x18104 sparse matrix of type '<class 'numpy.int64'>'\n",
       "\twith 179991 stored elements in Compressed Sparse Row format>"
      ]
     },
     "execution_count": 60,
     "metadata": {},
     "output_type": "execute_result"
    }
   ],
   "source": [
    "X_train_vectorized_count = vect_count.transform(X_train)\n",
    "X_train_vectorized_count"
   ]
  },
  {
   "cell_type": "code",
   "execution_count": 61,
   "metadata": {},
   "outputs": [],
   "source": [
    "X_valid_vectorized_count = vect_count.transform(X_valid)\n",
    "X_test_vectorized_count = vect_count.transform(X_test)"
   ]
  },
  {
   "cell_type": "code",
   "execution_count": 62,
   "metadata": {},
   "outputs": [],
   "source": [
    "vect_count_bigrams = CountVectorizer(min_df=5, ngram_range=(1,2)).fit(X_train)\n",
    "X_train_vectorized_count_bigrams = vect_count_bigrams.transform(X_train)\n",
    "X_valid_vectorized_count_bigrams = vect_count_bigrams.transform(X_valid)\n",
    "X_test_vectorized_count_bigrams = vect_count_bigrams.transform(X_test)"
   ]
  },
  {
   "cell_type": "code",
   "execution_count": 63,
   "metadata": {},
   "outputs": [
    {
     "data": {
      "text/plain": [
       "10586"
      ]
     },
     "execution_count": 63,
     "metadata": {},
     "output_type": "execute_result"
    }
   ],
   "source": [
    "len(vect_count_bigrams.get_feature_names_out())"
   ]
  },
  {
   "cell_type": "markdown",
   "metadata": {},
   "source": [
    "## 3.4 Numérique continu : TF-IDF"
   ]
  },
  {
   "cell_type": "markdown",
   "metadata": {},
   "source": [
    "Nous avons décidé de créer 2 objets tfidfVectorizer : un avec les stopwords et un sans les stopwords. En effet, les mots entrés dans les stopwords peuvent être importants pour interpréter la polarité d'un avis. "
   ]
  },
  {
   "cell_type": "code",
   "execution_count": 64,
   "metadata": {},
   "outputs": [],
   "source": [
    "from sklearn.feature_extraction.text import TfidfVectorizer"
   ]
  },
  {
   "cell_type": "markdown",
   "metadata": {},
   "source": [
    "### 3.4.1 Avec stopwords"
   ]
  },
  {
   "cell_type": "code",
   "execution_count": 79,
   "metadata": {},
   "outputs": [],
   "source": [
    "vect_tfidf = TfidfVectorizer(min_df=5, stop_words=sw, ngram_range=(1,2)).fit(X_train)"
   ]
  },
  {
   "cell_type": "code",
   "execution_count": 66,
   "metadata": {},
   "outputs": [
    {
     "data": {
      "text/plain": [
       "(18104, 3695)"
      ]
     },
     "execution_count": 66,
     "metadata": {},
     "output_type": "execute_result"
    }
   ],
   "source": [
    "len(vect_count.get_feature_names_out()), len(vect_tfidf.get_feature_names_out())"
   ]
  },
  {
   "cell_type": "code",
   "execution_count": 67,
   "metadata": {},
   "outputs": [],
   "source": [
    "X_train_vectorized_tfidf = vect_tfidf.transform(X_train)\n",
    "X_valid_vectorized_tfidf = vect_tfidf.transform(X_valid)\n",
    "X_test_vectorized_tfidf = vect_tfidf.transform(X_test)"
   ]
  },
  {
   "cell_type": "markdown",
   "metadata": {},
   "source": [
    "### 3.4.2 Sans stopwords"
   ]
  },
  {
   "cell_type": "code",
   "execution_count": null,
   "metadata": {},
   "outputs": [],
   "source": [
    "vect_tfidf = TfidfVectorizer(min_df=5).fit(X_train)"
   ]
  },
  {
   "cell_type": "markdown",
   "metadata": {},
   "source": [
    "# 3. Classification"
   ]
  },
  {
   "cell_type": "code",
   "execution_count": 68,
   "metadata": {},
   "outputs": [],
   "source": [
    "from sklearn.metrics import accuracy_score, precision_score, recall_score, f1_score, classification_report, confusion_matrix"
   ]
  },
  {
   "cell_type": "markdown",
   "metadata": {},
   "source": [
    "## 3.1. Modèles de référence faibles (*weak baselines*)"
   ]
  },
  {
   "cell_type": "markdown",
   "metadata": {},
   "source": [
    "### 3.1.1. Choix alétaoire"
   ]
  },
  {
   "cell_type": "code",
   "execution_count": 69,
   "metadata": {},
   "outputs": [],
   "source": [
    "from sklearn.dummy import DummyClassifier"
   ]
  },
  {
   "cell_type": "code",
   "execution_count": 70,
   "metadata": {},
   "outputs": [],
   "source": [
    "random_prop_class = DummyClassifier(strategy='stratified').fit(X_train_vectorized_tfidf,\n",
    "                                                               y_train)\n",
    "predictions_valid = random_prop_class.predict(X_valid_vectorized_tfidf)\n",
    "conf_mat = confusion_matrix(y_valid, predictions_valid)"
   ]
  },
  {
   "cell_type": "code",
   "execution_count": 71,
   "metadata": {},
   "outputs": [
    {
     "name": "stdout",
     "output_type": "stream",
     "text": [
      "[[ 14  27  78]\n",
      " [ 31  78 233]\n",
      " [114 248 785]]\n"
     ]
    }
   ],
   "source": [
    "print(conf_mat)"
   ]
  },
  {
   "cell_type": "code",
   "execution_count": 72,
   "metadata": {},
   "outputs": [
    {
     "data": {
      "text/plain": [
       "0.5453980099502488"
      ]
     },
     "execution_count": 72,
     "metadata": {},
     "output_type": "execute_result"
    }
   ],
   "source": [
    "accuracy_score(y_valid, predictions_valid)"
   ]
  },
  {
   "cell_type": "code",
   "execution_count": 73,
   "metadata": {},
   "outputs": [
    {
     "data": {
      "text/plain": [
       "array([-1, -1, -1, ..., -1, -1, -1])"
      ]
     },
     "execution_count": 73,
     "metadata": {},
     "output_type": "execute_result"
    }
   ],
   "source": [
    "random_uniform = DummyClassifier(strategy='uniform').fit(X_train_vectorized_tfidf,\n",
    "                                                         y_train)\n",
    "predictions_valid = random_uniform.predict(X_valid_vectorized_tfidf)\n",
    "predictions_valid"
   ]
  },
  {
   "cell_type": "code",
   "execution_count": 74,
   "metadata": {},
   "outputs": [],
   "source": [
    "conf_mat = confusion_matrix(y_valid, predictions_valid)"
   ]
  },
  {
   "cell_type": "code",
   "execution_count": 75,
   "metadata": {},
   "outputs": [
    {
     "name": "stdout",
     "output_type": "stream",
     "text": [
      "[[ 40  46  33]\n",
      " [131 103 108]\n",
      " [396 346 405]]\n"
     ]
    }
   ],
   "source": [
    "print(conf_mat)"
   ]
  },
  {
   "cell_type": "code",
   "execution_count": 76,
   "metadata": {},
   "outputs": [
    {
     "data": {
      "text/plain": [
       "0.3407960199004975"
      ]
     },
     "execution_count": 76,
     "metadata": {},
     "output_type": "execute_result"
    }
   ],
   "source": [
    "accuracy_score(y_valid, predictions_valid)"
   ]
  },
  {
   "cell_type": "code",
   "execution_count": 77,
   "metadata": {},
   "outputs": [
    {
     "name": "stdout",
     "output_type": "stream",
     "text": [
      "              precision    recall  f1-score   support\n",
      "\n",
      "          -1       0.07      0.34      0.12       119\n",
      "           0       0.21      0.30      0.25       342\n",
      "           1       0.74      0.35      0.48      1147\n",
      "\n",
      "    accuracy                           0.34      1608\n",
      "   macro avg       0.34      0.33      0.28      1608\n",
      "weighted avg       0.58      0.34      0.40      1608\n",
      "\n"
     ]
    }
   ],
   "source": [
    "print(classification_report(y_valid, predictions_valid))"
   ]
  },
  {
   "cell_type": "markdown",
   "metadata": {},
   "source": [
    "### 3.1.2. Prédiction constante de la classe majoritaire"
   ]
  },
  {
   "cell_type": "code",
   "execution_count": 78,
   "metadata": {},
   "outputs": [
    {
     "data": {
      "text/html": [
       "<div>\n",
       "<style scoped>\n",
       "    .dataframe tbody tr th:only-of-type {\n",
       "        vertical-align: middle;\n",
       "    }\n",
       "\n",
       "    .dataframe tbody tr th {\n",
       "        vertical-align: top;\n",
       "    }\n",
       "\n",
       "    .dataframe thead th {\n",
       "        text-align: right;\n",
       "    }\n",
       "</style>\n",
       "<table border=\"1\" class=\"dataframe\">\n",
       "  <thead>\n",
       "    <tr style=\"text-align: right;\">\n",
       "      <th></th>\n",
       "      <th>nb_reviews</th>\n",
       "      <th>pourcentage</th>\n",
       "    </tr>\n",
       "    <tr>\n",
       "      <th>class</th>\n",
       "      <th></th>\n",
       "      <th></th>\n",
       "    </tr>\n",
       "  </thead>\n",
       "  <tbody>\n",
       "    <tr>\n",
       "      <th>1</th>\n",
       "      <td>6658</td>\n",
       "      <td>0.69</td>\n",
       "    </tr>\n",
       "    <tr>\n",
       "      <th>0</th>\n",
       "      <td>2129</td>\n",
       "      <td>0.22</td>\n",
       "    </tr>\n",
       "    <tr>\n",
       "      <th>-1</th>\n",
       "      <td>858</td>\n",
       "      <td>0.09</td>\n",
       "    </tr>\n",
       "  </tbody>\n",
       "</table>\n",
       "</div>"
      ],
      "text/plain": [
       "       nb_reviews  pourcentage\n",
       "class                         \n",
       " 1           6658         0.69\n",
       " 0           2129         0.22\n",
       "-1            858         0.09"
      ]
     },
     "execution_count": 78,
     "metadata": {},
     "output_type": "execute_result"
    }
   ],
   "source": [
    "polarity_distribution"
   ]
  },
  {
   "cell_type": "markdown",
   "metadata": {},
   "source": [
    "# Conclusion"
   ]
  },
  {
   "cell_type": "markdown",
   "metadata": {},
   "source": [
    "Nous pouvons donc dire que blablabla\n",
    "\n",
    "Cependant, notre matrice de confusion est possiblement biaisée. En effet, certains de nos avis sont des \"résumés\" des livres, et ils on été classés dans la base de donnée comme non neutres. \n",
    "\n",
    "On a testé avec les bigram et trigram car intéressant dans notre cas \n",
    "\n",
    "On a pris la colonne avec les entités nommées car cela ne nous apporte rien de savoir le nom.\n",
    "\n",
    "Si on teste avec une autre colonne : expliquer pourquoi "
   ]
  }
 ],
 "metadata": {
  "kernelspec": {
   "display_name": "base",
   "language": "python",
   "name": "python3"
  },
  "language_info": {
   "codemirror_mode": {
    "name": "ipython",
    "version": 3
   },
   "file_extension": ".py",
   "mimetype": "text/x-python",
   "name": "python",
   "nbconvert_exporter": "python",
   "pygments_lexer": "ipython3",
   "version": "3.9.13"
  }
 },
 "nbformat": 4,
 "nbformat_minor": 2
}
